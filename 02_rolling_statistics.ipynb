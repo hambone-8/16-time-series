{
 "cells": [
  {
   "cell_type": "markdown",
   "metadata": {},
   "source": [
    "<img src=\"http://imgur.com/1ZcRyrc.png\" style=\"float: left; margin: 20px; height: 55px\">\n",
    "\n",
    "# Time Series: Rolling Statistics\n"
   ]
  },
  {
   "cell_type": "markdown",
   "metadata": {},
   "source": [
    "### Learning Objectives\n",
    "\n",
    "**After this lesson, you will be able to:**\n",
    "- Define the concepts of trend and seasonality and be able to identify them visually.\n",
    "- Use boxplots to compare distributions.\n",
    "- Plot time series data over time to identify large-scale trends in data.\n",
    "- Investigate trends by computing simple aggregates with Pandas using the `.resample()` function.\n",
    "- Compute rolling statistics with Pandas to compare data of a date to a smaller window of time.\n",
    "- Utilize exponentially weighted windows to average out noise.\n",
    "- Use differences to remove trends in time series data.\n",
    "- Use the Pandas' `.shift()` function to create lagged features.\n",
    "\n",
    "---"
   ]
  },
  {
   "cell_type": "markdown",
   "metadata": {},
   "source": [
    "### Lesson Guide\n",
    "\n",
    "#### Time Series Rolling Statistics\n",
    "- [Trend and Seasonality](#A)\n",
    "- [Aggregate Data](#B)\n",
    "- [Rolling Statistics](#C)\n",
    "- [Differencing a Time Series and Stationarity](#D)\n",
    "- [Shifting and Lagging Time Series Data](#E)\n",
    "- [Independent Practice](#F)\n",
    "----"
   ]
  },
  {
   "cell_type": "markdown",
   "metadata": {},
   "source": [
    "<h2><a id=\"A\">Trend and Seasonality</a></h2>"
   ]
  },
  {
   "cell_type": "markdown",
   "metadata": {},
   "source": [
    "**Question:** What constitutes a trend in data? Is linearity required for a trend?"
   ]
  },
  {
   "cell_type": "markdown",
   "metadata": {},
   "source": [
    "- A trend is any long-term change in the value we're measuring. Trends may “change direction,” going from an increasing trend to a decreasing trend.\n",
    "\n",
    "- Trends can only be measured within the scope of the data collected; there may be trends that are unmeasurable if the data are not complete.\n",
    "\n",
    "An example of an upward trend:\n",
    "![trendline](./assets/trend-line2.png)\n",
    "\n",
    "- When patterns repeat over *known, fixed periods* of time within a data set, we call this **seasonality**.\n",
    "\n",
    "- A seasonal pattern exists when a series is influenced by factors related to the cyclic nature of time — i.e., time of month, quarter, year, etc. Seasonality is of a fixed and known period, otherwise it is not truly seasonality. Additionally, it must be either attributed to another factor or counted as a set of anomalous events in the data.\n",
    "\n",
    ">  Can you think of some seasonal patterns from your own experience?\n"
   ]
  },
  {
   "cell_type": "markdown",
   "metadata": {},
   "source": [
    "### The easiest way to visualize trends is by drawing trend lines."
   ]
  },
  {
   "cell_type": "code",
   "execution_count": null,
   "metadata": {
    "ExecuteTime": {
     "end_time": "2022-03-01T03:22:57.048764Z",
     "start_time": "2022-03-01T03:22:50.616115Z"
    }
   },
   "outputs": [],
   "source": [
    "import pandas as pd\n",
    "import numpy as np\n",
    "import datetime\n",
    "from datetime import timedelta\n",
    "\n",
    "import matplotlib.pyplot as plt\n",
    "import seaborn as sns\n",
    "%matplotlib inline\n",
    "\n",
    "\n",
    "# Import the data.\n",
    "df = pd.read_csv('data/mapquest_google_trends.csv')\n",
    "\n",
    "# Clean/organize the data. \n",
    "df.columns = ['WeekOf', 'Hits']\n",
    "print(df.head())\n",
    "plt.rcParams[\"figure.figsize\"] = [16,9]\n",
    "ax = df.plot(title = \"Interest in MapQuest Over Time\")\n",
    "ax.set_xlabel(\"Week\")\n",
    "ax.set_ylabel(\"Hits\");"
   ]
  },
  {
   "cell_type": "markdown",
   "metadata": {},
   "source": [
    "Next, we need to compute a coefficient and intercept for our line. NumPy's `polyfit()` method can do this.\n",
    "\n",
    "Then, define our polynomial function using that coefficient. We can do this on a single dimension using NumPy's `poly1d()` method."
   ]
  },
  {
   "cell_type": "code",
   "execution_count": null,
   "metadata": {
    "ExecuteTime": {
     "end_time": "2022-03-01T03:22:57.062969Z",
     "start_time": "2022-03-01T03:22:57.054432Z"
    }
   },
   "outputs": [],
   "source": [
    "line_coef = np.polyfit(df.index,df['Hits'],1)\n",
    "print(line_coef)\n",
    "\n",
    "polynomial = np.poly1d(line_coef)\n",
    "# The intercept is ~86.59, the slope is ~0.11.\n",
    "\n",
    "# Let's take a look at the trendline values at specific points:\n",
    "print(polynomial(0))\n",
    "print(polynomial(1))\n",
    "print(polynomial(2))"
   ]
  },
  {
   "cell_type": "markdown",
   "metadata": {},
   "source": [
    "### Now, plot our trendline over the data."
   ]
  },
  {
   "cell_type": "code",
   "execution_count": null,
   "metadata": {
    "ExecuteTime": {
     "end_time": "2022-03-01T03:23:02.540614Z",
     "start_time": "2022-03-01T03:23:02.353274Z"
    }
   },
   "outputs": [],
   "source": [
    "# Plot the time series.\n",
    "plt.plot(df.index, df['Hits'])\n",
    "# Plot the least squares minimizing line.\n",
    "plt.rcParams[\"figure.figsize\"] = [16,9]\n",
    "plt.plot(df.index, polynomial(df.index));"
   ]
  },
  {
   "cell_type": "markdown",
   "metadata": {},
   "source": [
    "Looks like a second-order polynomial might fit our data even better. Let's try that out."
   ]
  },
  {
   "cell_type": "code",
   "execution_count": null,
   "metadata": {
    "ExecuteTime": {
     "end_time": "2022-03-01T03:23:13.089327Z",
     "start_time": "2022-03-01T03:23:13.082760Z"
    }
   },
   "outputs": [],
   "source": [
    "line_coef = np.polyfit(df.index,df['Hits'],2)\n",
    "print(line_coef)\n",
    "\n",
    "second_polynomial = np.poly1d(line_coef)"
   ]
  },
  {
   "cell_type": "code",
   "execution_count": null,
   "metadata": {
    "ExecuteTime": {
     "end_time": "2022-03-01T03:23:14.986930Z",
     "start_time": "2022-03-01T03:23:14.722394Z"
    }
   },
   "outputs": [],
   "source": [
    "plt.rcParams[\"figure.figsize\"] = [16,9]\n",
    "# Plot the time series.\n",
    "plt.plot(df.index, df['Hits'])\n",
    "# Plot the least squares minimizing line.\n",
    "plt.plot(df.index, second_polynomial(df.index))"
   ]
  },
  {
   "cell_type": "markdown",
   "metadata": {},
   "source": [
    "> **Question:** Can you think of any other underlying patterns that might cause trends in time series data? What might cause seasonality in a time series?"
   ]
  },
  {
   "cell_type": "markdown",
   "metadata": {},
   "source": [
    "### Guided Practice"
   ]
  },
  {
   "cell_type": "markdown",
   "metadata": {},
   "source": [
    "Let's look for trends and seasonality in data made available by a German drugstore, Rossmann.\n",
    "\n",
    "These data contain the daily sales made at the drugstore, as well as whether or not a sale or holiday affected the data."
   ]
  },
  {
   "cell_type": "markdown",
   "metadata": {},
   "source": [
    "Because we are most interested in the `Date` column (which contains the date of sales for each store), we will make sure to process that as a `datetime` type and make it the index of our DataFrame, as we did with our Apple stock data. \n",
    "\n",
    "Let's recall the steps for preprocessing time series data with Pandas:\n",
    "* Convert time data to a `datetime` object.\n",
    "* Set `datetime` to index the DataFrame."
   ]
  },
  {
   "cell_type": "code",
   "execution_count": null,
   "metadata": {
    "ExecuteTime": {
     "end_time": "2022-03-01T03:23:32.947879Z",
     "start_time": "2022-03-01T03:23:31.979202Z"
    }
   },
   "outputs": [],
   "source": [
    "# set the figure size\n",
    "plt.rcParams['figure.figsize'] = (16.0, 8.0)\n",
    "\n",
    "# read in the data\n",
    "data = pd.read_csv('data/rossmann.csv', skipinitialspace=True, low_memory=False)\n",
    "data['Date'] = pd.to_datetime(data['Date'])\n",
    "data = data.set_index('Date')\n",
    "data.head()"
   ]
  },
  {
   "cell_type": "markdown",
   "metadata": {},
   "source": [
    "This allows us to easily filter by date. Let's add a column for `Year` and `Month` based on the `datetime` index. "
   ]
  },
  {
   "cell_type": "code",
   "execution_count": null,
   "metadata": {
    "ExecuteTime": {
     "end_time": "2022-03-01T03:23:36.087748Z",
     "start_time": "2022-03-01T03:23:35.930601Z"
    },
    "scrolled": true
   },
   "outputs": [],
   "source": [
    "data['Year'] = data.index.year\n",
    "data['Month'] = data.index.month\n",
    "\n",
    "data['2015-05'].head()"
   ]
  },
  {
   "cell_type": "markdown",
   "metadata": {},
   "source": [
    "There are more than a million sales data points in this data set, so, for some simple exploratory data analysis (EDA), we'll focus on just one store."
   ]
  },
  {
   "cell_type": "code",
   "execution_count": null,
   "metadata": {
    "ExecuteTime": {
     "end_time": "2022-03-01T03:23:38.202462Z",
     "start_time": "2022-03-01T03:23:38.047725Z"
    }
   },
   "outputs": [],
   "source": [
    "# create boolean index\n",
    "is_store1 = data['Store'] == 1\n",
    "\n",
    "store1_data = data[is_store1]\n",
    "store1_data.head()"
   ]
  },
  {
   "cell_type": "markdown",
   "metadata": {},
   "source": [
    "### Plot the sales data."
   ]
  },
  {
   "cell_type": "markdown",
   "metadata": {},
   "source": [
    "Let's investigate whether or not promotions affect sales. For this, we'll use boxplots.\n",
    "\n",
    "On state holidays, the store is closed (which means there are zero sales), so we need to cut those days out. (Contextual knowledge like this is always necessary to truly explain time series phenomena.)\n",
    "\n",
    "> **Check for Understanding:** Can you think of any other special considerations we should make when tracking sales?\n",
    "\n",
    "Now, check to see if there is a difference affecting sales on promotion days."
   ]
  },
  {
   "cell_type": "code",
   "execution_count": null,
   "metadata": {
    "ExecuteTime": {
     "end_time": "2022-03-01T03:23:40.942840Z",
     "start_time": "2022-03-01T03:23:40.691790Z"
    },
    "scrolled": true
   },
   "outputs": [],
   "source": [
    "# create a box plot\n",
    "is_open = store1_data['Open']==1\n",
    "\n",
    "sns.factorplot(\n",
    "    x='Promo',\n",
    "    y='Sales',\n",
    "    data=store1_data[is_open],\n",
    "    kind='box'\n",
    ");"
   ]
  },
  {
   "cell_type": "markdown",
   "metadata": {},
   "source": [
    "We can see that there _is_ a difference in sales on promotion days.\n",
    "\n",
    "Why is it important to separate out days on which the store is closed? Because there aren't any promotions on those days either, so including them will bias our sales data on days without promotions! Remember to think about the business logic in addition to analyzing the raw data.\n",
    "\n",
    "We may also want to compare sales across days of the week:"
   ]
  },
  {
   "cell_type": "code",
   "execution_count": null,
   "metadata": {
    "ExecuteTime": {
     "end_time": "2022-03-01T06:04:00.467823Z",
     "start_time": "2022-03-01T06:03:59.285593Z"
    }
   },
   "outputs": [],
   "source": [
    "sns.factorplot(\n",
    "    x='DayOfWeek',\n",
    "    y='Sales',\n",
    "    data=store1_data,\n",
    "    kind='box',\n",
    ");"
   ]
  },
  {
   "cell_type": "markdown",
   "metadata": {},
   "source": [
    "Lastly, we want to identify larger-scale trends in our data. How did sales change from 2014 to 2015? Were there any particularly interesting outliers in terms of sales or customer visits?\n",
    "\n",
    "To plot the sales and customer visits over time:"
   ]
  },
  {
   "cell_type": "code",
   "execution_count": null,
   "metadata": {
    "ExecuteTime": {
     "end_time": "2022-03-01T06:04:01.343208Z",
     "start_time": "2022-03-01T06:04:00.738488Z"
    }
   },
   "outputs": [],
   "source": [
    "# Filter to days Store 1 was open.\n",
    "\n",
    "store1_open_data = store1_data[is_open]\n",
    "store1_open_data[['Sales']].plot()\n",
    "store1_open_data[['Customers']].plot();"
   ]
  },
  {
   "cell_type": "markdown",
   "metadata": {},
   "source": [
    "We can see that there are large spikes of sales and customers toward the end of 2013 and 2014, leading into the first quarter of 2014 and 2015.\n",
    "\n",
    "Let's use index filtering to filter just to 2015 changes over time. This should make it easier to identify the holiday sales bump.\n"
   ]
  },
  {
   "cell_type": "code",
   "execution_count": null,
   "metadata": {
    "ExecuteTime": {
     "end_time": "2022-03-01T06:04:12.238328Z",
     "start_time": "2022-03-01T06:04:11.940824Z"
    }
   },
   "outputs": [],
   "source": [
    "store1_data_2015 = store1_data['2015']\n",
    "is_open_2015 = store1_data_2015['Open'] == 1\n",
    "store1_data_2015[is_open_2015][['Sales']].plot();"
   ]
  },
  {
   "cell_type": "markdown",
   "metadata": {},
   "source": [
    "<h2><a id= \"B\">Aggregate Data</a></h2>"
   ]
  },
  {
   "cell_type": "markdown",
   "metadata": {},
   "source": [
    "If we want to investigate trends over time in sales, as always, we'll start by computing simple aggregates. We want to know: What were the mean and median sales in each month and year?\n",
    "\n",
    "We can use `data.resample` on the whole data set and provide:\n",
    "1. A parameter specifying the level for the aggregation: `'D'` for day, `'W'` for week, `'M'` for month, `'A'` for year.\n",
    "2. The aggregation method to perform: `mean()`, `median()`, `sum()`, etc."
   ]
  },
  {
   "cell_type": "code",
   "execution_count": null,
   "metadata": {
    "ExecuteTime": {
     "end_time": "2022-03-01T06:04:37.543802Z",
     "start_time": "2022-03-01T06:04:37.180844Z"
    }
   },
   "outputs": [],
   "source": [
    "data[['Sales']].resample('A').mean()"
   ]
  },
  {
   "cell_type": "markdown",
   "metadata": {},
   "source": [
    "**Exercise** It looks like average sales were highest in 2015. Now, let's look at the median annual sales."
   ]
  },
  {
   "cell_type": "code",
   "execution_count": null,
   "metadata": {
    "ExecuteTime": {
     "end_time": "2022-03-01T06:04:37.992304Z",
     "start_time": "2022-03-01T06:04:37.987916Z"
    }
   },
   "outputs": [],
   "source": [
    "# repeat for the media annual sales"
   ]
  },
  {
   "cell_type": "code",
   "execution_count": null,
   "metadata": {
    "ExecuteTime": {
     "end_time": "2022-03-01T06:04:38.483569Z",
     "start_time": "2022-03-01T06:04:38.259781Z"
    }
   },
   "outputs": [],
   "source": [
    "data[['Sales']].resample('A').median()"
   ]
  },
  {
   "cell_type": "code",
   "execution_count": null,
   "metadata": {
    "ExecuteTime": {
     "end_time": "2022-03-01T06:04:38.827820Z",
     "start_time": "2022-03-01T06:04:38.630320Z"
    }
   },
   "outputs": [],
   "source": [
    "data[['Sales']].resample('M').mean()"
   ]
  },
  {
   "cell_type": "code",
   "execution_count": null,
   "metadata": {
    "ExecuteTime": {
     "end_time": "2022-03-01T06:04:39.239179Z",
     "start_time": "2022-03-01T06:04:38.971473Z"
    }
   },
   "outputs": [],
   "source": [
    "data[['Sales']].resample('M').median()"
   ]
  },
  {
   "cell_type": "markdown",
   "metadata": {},
   "source": [
    "For more information, see Pandas' `.resample`  [documentation](https://pandas.pydata.org/pandas-docs/stable/generated/pandas.DataFrame.resample.html)."
   ]
  },
  {
   "cell_type": "markdown",
   "metadata": {},
   "source": [
    "> **Question:** How do aggregation techniques help us sort out important insights from the noise of time series data?"
   ]
  },
  {
   "cell_type": "markdown",
   "metadata": {},
   "source": [
    "<h2><a id = \"C\">Rolling Statistics</a><h2>"
   ]
  },
  {
   "cell_type": "markdown",
   "metadata": {},
   "source": [
    "With time series, we can \"roll\" statistics across time. For example, the rolling mean is the mean of a moving window across time periods. Pandas offers a variety of functionalities for creating rolling statistics, which we'll only scratch the surface of here.\n",
    "\n",
    "E.g., to understand holidays sales, we don't want to compare sales data in late December with the entire month but instead with a few days immediately surrounding it. We can do this using rolling averages.\n",
    "\n",
    "The syntax for these can be a little tricky at first. We'll be using a `rolling()` function with a statistical function chained to it. Let's dive into more detail.\n",
    "\n",
    "### Parameters for `rolling()` Functions\n",
    "\n",
    "`rolling().mean()` (as well as `rolling().median())` can take the following parameters:\n",
    "\n",
    "* The first indicates the time series to aggregate.\n",
    "* `window` indicates the number of periods to include in the average.\n",
    "* `center` indicates whether the window should be centered on the date or use data prior to that date.\n"
   ]
  },
  {
   "cell_type": "markdown",
   "metadata": {},
   "source": [
    "#### Calculate the rolling daily sum over all stores."
   ]
  },
  {
   "cell_type": "markdown",
   "metadata": {},
   "source": [
    "Use the `.resample()` function to calculate the daily total over all of the stores."
   ]
  },
  {
   "cell_type": "code",
   "execution_count": null,
   "metadata": {
    "ExecuteTime": {
     "end_time": "2022-03-01T06:04:41.767675Z",
     "start_time": "2022-03-01T06:04:41.565869Z"
    }
   },
   "outputs": [],
   "source": [
    "# resample the sales data into daily totals\n",
    "daily_store_sales = data[['Sales']].resample('D').sum()"
   ]
  },
  {
   "cell_type": "markdown",
   "metadata": {},
   "source": [
    "Use the `.rolling()` function to calculate the rolling average over a three-day period."
   ]
  },
  {
   "cell_type": "code",
   "execution_count": null,
   "metadata": {
    "ExecuteTime": {
     "end_time": "2022-03-01T06:04:42.313719Z",
     "start_time": "2022-03-01T06:04:42.298535Z"
    },
    "scrolled": true
   },
   "outputs": [],
   "source": [
    "# create 3-day rolling average \n",
    "daily_store_sales.rolling( window=3, center=True).mean().head()"
   ]
  },
  {
   "cell_type": "markdown",
   "metadata": {},
   "source": [
    "**Why is there an `NaN` in the first entry?**\n",
    "\n",
    "We can use our index filtering to just look at 2015."
   ]
  },
  {
   "cell_type": "code",
   "execution_count": null,
   "metadata": {
    "ExecuteTime": {
     "end_time": "2022-03-01T06:04:43.492012Z",
     "start_time": "2022-03-01T06:04:43.449767Z"
    }
   },
   "outputs": [],
   "source": [
    "# look at the 7-day rolling mean for 2015\n",
    "daily_store_sales.rolling( window=7, center=True).mean()['2015'].head()"
   ]
  },
  {
   "cell_type": "markdown",
   "metadata": {},
   "source": [
    "Instead of plotting the full time series, we can plot the rolling mean instead, which smooths random changes in sales and removes outliers, helping us identify larger trends."
   ]
  },
  {
   "cell_type": "code",
   "execution_count": null,
   "metadata": {
    "ExecuteTime": {
     "end_time": "2022-03-01T06:04:44.965177Z",
     "start_time": "2022-03-01T06:04:44.666106Z"
    },
    "scrolled": false
   },
   "outputs": [],
   "source": [
    "daily_store_sales.rolling(window=30, center=True).mean().plot();"
   ]
  },
  {
   "cell_type": "markdown",
   "metadata": {},
   "source": [
    "### The Expanding Mean"
   ]
  },
  {
   "cell_type": "markdown",
   "metadata": {},
   "source": [
    "The expanding mean simply uses all of the data points up to the current time to calculate the mean, as opposed to a moving window."
   ]
  },
  {
   "cell_type": "markdown",
   "metadata": {},
   "source": [
    "#### Calculate and plot the expanding mean below. Resample by quarter."
   ]
  },
  {
   "cell_type": "code",
   "execution_count": null,
   "metadata": {
    "ExecuteTime": {
     "end_time": "2022-03-01T06:04:48.874196Z",
     "start_time": "2022-03-01T06:04:48.528547Z"
    }
   },
   "outputs": [],
   "source": [
    "# quarterly rolling mean\n",
    "rolling_mean = data.Sales.resample('Q').sum().rolling(window=1, center=False).mean()\n",
    "expanding_mean = data.Sales.resample('Q').sum().expanding().mean()"
   ]
  },
  {
   "cell_type": "code",
   "execution_count": null,
   "metadata": {
    "ExecuteTime": {
     "end_time": "2022-03-01T06:04:49.408643Z",
     "start_time": "2022-03-01T06:04:49.139028Z"
    }
   },
   "outputs": [],
   "source": [
    "plt.rcParams[\"figure.figsize\"] = [16,9]\n",
    "fig, ax = plt.subplots()\n",
    "rolling_mean.plot(legend = True)\n",
    "expanding_mean.plot(legend = True)\n",
    "ax.legend(['Rolling Mean', 'Expanding Mean']);"
   ]
  },
  {
   "cell_type": "markdown",
   "metadata": {},
   "source": [
    "### Exponentially Weighted Windows"
   ]
  },
  {
   "cell_type": "markdown",
   "metadata": {},
   "source": [
    "Exponentially weighted windows are one of the most common and effective ways of averaging out noise in time series data. The averaging is done with an \"exponential decay\" on the contribution of prior means, decreasing the contribution of time points that are further in the past.\n",
    "\n",
    "The (adjusted) exponentially weighted mean for time, $t$, is defined as:\n",
    "\n",
    "<a id=\"-xt--fracxt-----alphaxt------alphaxt--------alphatx------alpha-----alpha-------alphat-\"></a>\n",
    "### $$ x_t = \\frac{x_t + (1 - \\alpha)x_{t-1} + (1 - \\alpha)^2x_{t-1} + ... + (1 - \\alpha)^{t}x_0} {1 + (1 - \\alpha) + (1 - \\alpha)^2 + ... + (1 - \\alpha)^{t}} $$\n",
    "\n",
    "> **Note:** Review Pandas' [documentation](http://pandas.pydata.org/pandas-docs/stable/computation.html#exponentially-weighted-windows) for more information.\n",
    "\n",
    "**Calculate and plot the exponentially weighted sum along with the rolling sum. What's the difference?**\n",
    "\n",
    "For example: `.resample('Q').sum().ewm(span=10).mean()`.\n"
   ]
  },
  {
   "cell_type": "code",
   "execution_count": null,
   "metadata": {
    "ExecuteTime": {
     "end_time": "2022-03-01T06:04:50.851759Z",
     "start_time": "2022-03-01T06:04:50.508116Z"
    }
   },
   "outputs": [],
   "source": [
    "rolling_mean = data['Sales'].resample('Q').sum().rolling(window=2, center=True).mean()\n",
    "exp_weighted_mean = data.Sales.resample('Q').sum().ewm(span=10).mean()"
   ]
  },
  {
   "cell_type": "code",
   "execution_count": null,
   "metadata": {
    "ExecuteTime": {
     "end_time": "2022-03-01T06:04:51.190876Z",
     "start_time": "2022-03-01T06:04:50.897007Z"
    }
   },
   "outputs": [],
   "source": [
    "plt.rcParams[\"figure.figsize\"] = [16,9]\n",
    "fig, ax = plt.subplots()\n",
    "rolling_mean.plot(legend = True)\n",
    "exp_weighted_mean.plot(legend = True)\n",
    "ax.legend(['Rolling Mean', 'Exponentially Weighted Mean'])"
   ]
  },
  {
   "cell_type": "markdown",
   "metadata": {},
   "source": [
    "*Note that rolling doesn't understand if you are missing periods (e.g., if you roll over three days and your data are missing weekends, it'll roll Fri/Sat/Sun), so you need to resample first if you care about that.*"
   ]
  },
  {
   "cell_type": "markdown",
   "metadata": {},
   "source": [
    "> **Question:** How does the signal that's captured by rolling statistics differ from the signal captured by resampling time series data?"
   ]
  },
  {
   "cell_type": "markdown",
   "metadata": {},
   "source": [
    "<h2><a id = \"D\">Differencing a Time Series and Stationarity</a></h2>"
   ]
  },
  {
   "cell_type": "markdown",
   "metadata": {},
   "source": [
    "If a time series is stationary, the mean, variance, and autocorrelation (covered in the next section) will be constant over time. Forecasting methods typically assume the time series you are forecasting on to be stationary — or at least approximately stationary.\n",
    "\n",
    "The most common way to make a time series stationary is through \"differencing.\" This procedure converts a time series into the difference between values.\n",
    "\n",
    "<a id=\"-delta-yt--yt---yt--\"></a>\n",
    "### $$ \\Delta y_t = y_t - y_{t-1} $$\n",
    "\n",
    "This removes trends in the time series and ensures that the mean across time is zero. In most cases, this only requires a single difference, although, in some, a second difference (or third, etc.) will be necessary to remove trends."
   ]
  },
  {
   "cell_type": "code",
   "execution_count": null,
   "metadata": {
    "ExecuteTime": {
     "end_time": "2022-03-01T06:04:53.279711Z",
     "start_time": "2022-03-01T06:04:53.273807Z"
    }
   },
   "outputs": [],
   "source": [
    "diff = store1_data['Sales'].diff(periods = 7)"
   ]
  },
  {
   "cell_type": "code",
   "execution_count": null,
   "metadata": {
    "ExecuteTime": {
     "end_time": "2022-03-01T06:04:53.754209Z",
     "start_time": "2022-03-01T06:04:53.745491Z"
    }
   },
   "outputs": [],
   "source": [
    "diff.head(10)"
   ]
  },
  {
   "cell_type": "code",
   "execution_count": null,
   "metadata": {
    "ExecuteTime": {
     "end_time": "2022-03-01T06:04:54.477708Z",
     "start_time": "2022-03-01T06:04:54.473468Z"
    }
   },
   "outputs": [],
   "source": [
    "store1_data=store1_data.sort_index()"
   ]
  },
  {
   "cell_type": "code",
   "execution_count": null,
   "metadata": {
    "ExecuteTime": {
     "end_time": "2022-03-01T06:04:55.524477Z",
     "start_time": "2022-03-01T06:04:55.165215Z"
    }
   },
   "outputs": [],
   "source": [
    "plt.rcParams[\"figure.figsize\"] = [16,9]\n",
    "fig, ax = plt.subplots()\n",
    "store1_data['Sales'].plot(legend = True)\n",
    "diff.plot(legend = True)\n",
    "ax.legend(['Sales', 'First Difference']);"
   ]
  },
  {
   "cell_type": "markdown",
   "metadata": {},
   "source": [
    "> **Check:** How does differencing help with problems of non-stationarity and autocorrelation in time series data?"
   ]
  },
  {
   "cell_type": "markdown",
   "metadata": {},
   "source": [
    "<h2><a id=\"E\">Shifting and Lagging Time Series Data</a></h2>"
   ]
  },
  {
   "cell_type": "markdown",
   "metadata": {},
   "source": [
    "Another common operation on time series data is shifting or lagging values backward and forward in time. This can help us calculate the percentage of change from sample to sample. Pandas has a `.shift()` method for shifting the data in a DataFrame.\n",
    "\n",
    "Let's take a look at the Rossman data when we apply lagged features. "
   ]
  },
  {
   "cell_type": "code",
   "execution_count": null,
   "metadata": {
    "ExecuteTime": {
     "end_time": "2022-03-01T06:04:57.256350Z",
     "start_time": "2022-03-01T06:04:57.243853Z"
    }
   },
   "outputs": [],
   "source": [
    "store1_data.head()"
   ]
  },
  {
   "cell_type": "markdown",
   "metadata": {},
   "source": [
    "Let's shift the sales price by one day."
   ]
  },
  {
   "cell_type": "code",
   "execution_count": null,
   "metadata": {
    "ExecuteTime": {
     "end_time": "2022-03-01T06:04:58.137014Z",
     "start_time": "2022-03-01T06:04:58.118745Z"
    }
   },
   "outputs": [],
   "source": [
    "# shift data ahead by one day\n",
    "shifted_forward = store1_data.shift(1)\n",
    "shifted_forward.head()"
   ]
  },
  {
   "cell_type": "markdown",
   "metadata": {},
   "source": [
    "*Notice that the first row now contains NaN values because there wasn't a previous day's data to shift to that day.*\n",
    "\n",
    "Next, let's shift the sales prices by five days."
   ]
  },
  {
   "cell_type": "code",
   "execution_count": null,
   "metadata": {
    "ExecuteTime": {
     "end_time": "2022-03-01T06:04:59.561792Z",
     "start_time": "2022-03-01T06:04:59.539728Z"
    }
   },
   "outputs": [],
   "source": [
    "shifted_forward5 = store1_data.shift(3)\n",
    "shifted_forward5.head(10)"
   ]
  },
  {
   "cell_type": "markdown",
   "metadata": {},
   "source": [
    "We can also use negative numbers to shift the sales values in the reverse direction."
   ]
  },
  {
   "cell_type": "code",
   "execution_count": null,
   "metadata": {
    "ExecuteTime": {
     "end_time": "2022-03-01T06:05:00.597898Z",
     "start_time": "2022-03-01T06:05:00.576595Z"
    }
   },
   "outputs": [],
   "source": [
    "shifted_backward = store1_data.shift(-3)\n",
    "shifted_backward.tail()"
   ]
  },
  {
   "cell_type": "markdown",
   "metadata": {},
   "source": [
    "Lags can be used to calculate the changes in the values you are tracking with your time series data. In this case, we can use Pandas' `.shift()` method to look at the changes in sales. \n",
    "\n",
    "Let's create a new column in our Rossman DataFrame that contains the previous day's sales. \n",
    "\n",
    "*Note that we add `.copy()` to the end of the chained assignment to explicitly tell Pandas that this will be a copy and not a view. Here is a useful [video](https://www.youtube.com/watch?v=4R4WsDJ-KVc) that helps explain how to avoid SettingCopyWithWarning errors in Pandas.*"
   ]
  },
  {
   "cell_type": "code",
   "execution_count": null,
   "metadata": {
    "ExecuteTime": {
     "end_time": "2022-03-01T06:05:01.413638Z",
     "start_time": "2022-03-01T06:05:01.396071Z"
    }
   },
   "outputs": [],
   "source": [
    "store1_data['Prev Day Sales'] = store1_data['Sales'].shift(7).copy()\n",
    "store1_data.head(10)"
   ]
  },
  {
   "cell_type": "markdown",
   "metadata": {
    "collapsed": true
   },
   "source": [
    "Using our new column, it's simple to calculate the one-day change in sales at Store 1. Let's create a new column for this value in our DataFrame as well."
   ]
  },
  {
   "cell_type": "code",
   "execution_count": null,
   "metadata": {
    "ExecuteTime": {
     "end_time": "2022-03-01T06:05:02.568621Z",
     "start_time": "2022-03-01T06:05:02.533798Z"
    }
   },
   "outputs": [],
   "source": [
    "store1_data['Sales Change'] = store1_data['Sales'] - store1_data['Prev Day Sales'].copy()\n",
    "store1_data.head(14)"
   ]
  },
  {
   "cell_type": "markdown",
   "metadata": {},
   "source": [
    "> **Question:** What are some other real-world applications you can think of for shifting data in a time series?"
   ]
  },
  {
   "cell_type": "markdown",
   "metadata": {},
   "source": [
    "# Recap"
   ]
  },
  {
   "cell_type": "markdown",
   "metadata": {},
   "source": [
    "* Trends are long-term changes in data. We have to sort through the noise of a time series to identify trends.\n",
    "* We can resample the data to look at simple aggregates and identify patterns.\n",
    "* Rolling statistics give us a local statistic of an average in time, smoothing out random fluctuations and removing outliers."
   ]
  },
  {
   "cell_type": "markdown",
   "metadata": {},
   "source": [
    "<h2><a id=\"F\">Independent Practice</a></h2>"
   ]
  },
  {
   "cell_type": "markdown",
   "metadata": {},
   "source": [
    "**Instructor Note:** These are optional and can be assigned as student practice questions outside of class."
   ]
  },
  {
   "cell_type": "markdown",
   "metadata": {},
   "source": [
    "### 1) Load the Unemployment data set. Perform any necessary cleaning and preprocess the data by creating a `datetime` index."
   ]
  },
  {
   "cell_type": "code",
   "execution_count": null,
   "metadata": {
    "ExecuteTime": {
     "end_time": "2021-09-23T21:50:28.113461Z",
     "start_time": "2021-09-23T21:50:28.092615Z"
    }
   },
   "outputs": [],
   "source": [
    "# Load unemployment data\n",
    "unemp = pd.read_csv('./data/unemployment.csv')"
   ]
  },
  {
   "cell_type": "code",
   "execution_count": null,
   "metadata": {},
   "outputs": [],
   "source": []
  },
  {
   "cell_type": "code",
   "execution_count": null,
   "metadata": {},
   "outputs": [],
   "source": []
  },
  {
   "cell_type": "markdown",
   "metadata": {},
   "source": [
    "### 2) Plot the unemployment rate."
   ]
  },
  {
   "cell_type": "code",
   "execution_count": null,
   "metadata": {},
   "outputs": [],
   "source": []
  },
  {
   "cell_type": "markdown",
   "metadata": {},
   "source": [
    "### 3) Calculate the rolling mean of years with `window=3 `, without centering, and plot both the unemployment rates and the rolling mean data."
   ]
  },
  {
   "cell_type": "code",
   "execution_count": null,
   "metadata": {},
   "outputs": [],
   "source": []
  },
  {
   "cell_type": "code",
   "execution_count": null,
   "metadata": {},
   "outputs": [],
   "source": []
  },
  {
   "cell_type": "code",
   "execution_count": null,
   "metadata": {},
   "outputs": [],
   "source": []
  },
  {
   "cell_type": "markdown",
   "metadata": {},
   "source": [
    "### 4) Calculate the rolling median with `window=5` and `window=15`. Plot both together with the original data."
   ]
  },
  {
   "cell_type": "code",
   "execution_count": null,
   "metadata": {},
   "outputs": [],
   "source": []
  },
  {
   "cell_type": "code",
   "execution_count": null,
   "metadata": {},
   "outputs": [],
   "source": []
  },
  {
   "cell_type": "markdown",
   "metadata": {},
   "source": [
    "### 5) Calculate and plot the expanding mean. Resample by quarter. Plot the rolling mean and the expanding mean together."
   ]
  },
  {
   "cell_type": "code",
   "execution_count": null,
   "metadata": {},
   "outputs": [],
   "source": []
  },
  {
   "cell_type": "code",
   "execution_count": null,
   "metadata": {},
   "outputs": [],
   "source": []
  },
  {
   "cell_type": "code",
   "execution_count": null,
   "metadata": {},
   "outputs": [],
   "source": []
  },
  {
   "cell_type": "markdown",
   "metadata": {},
   "source": [
    "### 6) Calculate and plot the exponentially weighted sum along with the rolling sum."
   ]
  },
  {
   "cell_type": "code",
   "execution_count": null,
   "metadata": {},
   "outputs": [],
   "source": []
  },
  {
   "cell_type": "code",
   "execution_count": null,
   "metadata": {},
   "outputs": [],
   "source": []
  },
  {
   "cell_type": "markdown",
   "metadata": {},
   "source": [
    "### 7) Difference the unemployment rate and plot."
   ]
  },
  {
   "cell_type": "code",
   "execution_count": null,
   "metadata": {},
   "outputs": [],
   "source": []
  },
  {
   "cell_type": "code",
   "execution_count": null,
   "metadata": {},
   "outputs": [],
   "source": []
  },
  {
   "cell_type": "code",
   "execution_count": null,
   "metadata": {},
   "outputs": [],
   "source": []
  }
 ],
 "metadata": {
  "kernelspec": {
   "display_name": "Python 3",
   "language": "python",
   "name": "python3"
  },
  "language_info": {
   "codemirror_mode": {
    "name": "ipython",
    "version": 3
   },
   "file_extension": ".py",
   "mimetype": "text/x-python",
   "name": "python",
   "nbconvert_exporter": "python",
   "pygments_lexer": "ipython3",
   "version": "3.7.3"
  },
  "toc": {
   "base_numbering": 1,
   "nav_menu": {},
   "number_sections": false,
   "sideBar": true,
   "skip_h1_title": false,
   "title_cell": "Table of Contents",
   "title_sidebar": "Contents",
   "toc_cell": false,
   "toc_position": {},
   "toc_section_display": true,
   "toc_window_display": false
  }
 },
 "nbformat": 4,
 "nbformat_minor": 2
}
